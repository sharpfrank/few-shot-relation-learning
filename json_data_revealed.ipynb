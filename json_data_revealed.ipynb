{
 "cells": [
  {
   "cell_type": "code",
   "execution_count": 12,
   "metadata": {},
   "outputs": [],
   "source": [
    "import os\n",
    "from fewshot_re_kit.data_loader import FewRelDataset\n",
    "from fewshot_re_kit.sentence_encoder import GPT2SentenceEncoder,BERTSentenceEncoder\n",
    "import json"
   ]
  },
  {
   "cell_type": "code",
   "execution_count": 13,
   "metadata": {},
   "outputs": [
    {
     "name": "stderr",
     "output_type": "stream",
     "text": [
      "Some weights of GPT2Model were not initialized from the model checkpoint at gpt2 and are newly initialized: ['h.0.attn.masked_bias', 'h.1.attn.masked_bias', 'h.2.attn.masked_bias', 'h.3.attn.masked_bias', 'h.4.attn.masked_bias', 'h.5.attn.masked_bias', 'h.6.attn.masked_bias', 'h.7.attn.masked_bias', 'h.8.attn.masked_bias', 'h.9.attn.masked_bias', 'h.10.attn.masked_bias', 'h.11.attn.masked_bias']\n",
      "You should probably TRAIN this model on a down-stream task to be able to use it for predictions and inference.\n"
     ]
    },
    {
     "name": "stdout",
     "output_type": "stream",
     "text": [
      "dataset path: ./data/train_wiki.json\n"
     ]
    }
   ],
   "source": [
    "max_length = 128\n",
    "cat_entity_rep = False\n",
    "encoder = GPT2SentenceEncoder('gpt2',max_length,cat_entity_rep=cat_entity_rep)\n",
    "#encoder = BERTSentenceEncoder('bert-base-uncased',max_length,cat_entity_rep=cat_entity_rep)\n",
    "N = 2\n",
    "K = 1\n",
    "Q = 1\n",
    "name = 'train_wiki'\n",
    "\n",
    "\n",
    "frds = FewRelDataset(name, encoder, N, K, Q, 0, './data')"
   ]
  },
  {
   "cell_type": "code",
   "execution_count": 8,
   "metadata": {},
   "outputs": [
    {
     "data": {
      "text/plain": [
       "3"
      ]
     },
     "execution_count": 8,
     "metadata": {},
     "output_type": "execute_result"
    }
   ],
   "source": [
    "len(frds[0])\n"
   ]
  },
  {
   "cell_type": "code",
   "execution_count": 9,
   "metadata": {},
   "outputs": [
    {
     "data": {
      "text/plain": [
       "({'word': [tensor([50256,   464,  1743,  2647,  2008,   329,   262,  3496, 44119,   319,\n",
       "            3267,  2608,   837,   262,  2647,  2008,  3033,   281,  5585,   416,\n",
       "           50256, 13117, 50256,  1912,  4097, 50256,  7413,   921, 29739, 50256,\n",
       "           42458,   355,   607,  4097,   764,     1,     1,     1,     1,     1,\n",
       "               1,     1,     1,     1,     1,     1,     1,     1,     1,     1,\n",
       "               1,     1,     1,     1,     1,     1,     1,     1,     1,     1,\n",
       "               1,     1,     1,     1,     1,     1,     1,     1,     1,     1,\n",
       "               1,     1,     1,     1,     1,     1,     1,     1,     1,     1,\n",
       "               1,     1,     1,     1,     1,     1,     1,     1,     1,     1,\n",
       "               1,     1,     1,     1,     1,     1,     1,     1,     1,     1,\n",
       "               1,     1,     1,     1,     1,     1,     1,     1,     1,     1,\n",
       "               1,     1,     1,     1,     1,     1,     1,     1,     1,     1,\n",
       "               1,     1,     1,     1,     1,     1,     1,     1]),\n",
       "   tensor([50256, 50256, 10462,  2674, 14668,  7637,   347,   577, 50256,   837,\n",
       "             262,  4870,   290,   635,   409, 33822,   321,   377,  3162,  8852,\n",
       "             379,   262, 13308,  3972, 41941,   837,  2067, 12407,   366, 50256,\n",
       "           30043, 14774,  1736,   265,   312,   259, 50256,   366,   422,   860,\n",
       "            2932,  9768,   764,     1,     1,     1,     1,     1,     1,     1,\n",
       "               1,     1,     1,     1,     1,     1,     1,     1,     1,     1,\n",
       "               1,     1,     1,     1,     1,     1,     1,     1,     1,     1,\n",
       "               1,     1,     1,     1,     1,     1,     1,     1,     1,     1,\n",
       "               1,     1,     1,     1,     1,     1,     1,     1,     1,     1,\n",
       "               1,     1,     1,     1,     1,     1,     1,     1,     1,     1,\n",
       "               1,     1,     1,     1,     1,     1,     1,     1,     1,     1,\n",
       "               1,     1,     1,     1,     1,     1,     1,     1,     1,     1,\n",
       "               1,     1,     1,     1,     1,     1,     1,     1])],\n",
       "  'pos1': [tensor(24), tensor(28)],\n",
       "  'pos2': [tensor(19), tensor(0)],\n",
       "  'mask': [tensor([1, 1, 1, 1, 1, 1, 1, 1, 1, 1, 1, 1, 1, 1, 1, 1, 1, 1, 1, 1, 1, 1, 1, 1,\n",
       "           1, 1, 1, 1, 1, 1, 1, 1, 1, 1, 1, 0, 0, 0, 0, 0, 0, 0, 0, 0, 0, 0, 0, 0,\n",
       "           0, 0, 0, 0, 0, 0, 0, 0, 0, 0, 0, 0, 0, 0, 0, 0, 0, 0, 0, 0, 0, 0, 0, 0,\n",
       "           0, 0, 0, 0, 0, 0, 0, 0, 0, 0, 0, 0, 0, 0, 0, 0, 0, 0, 0, 0, 0, 0, 0, 0,\n",
       "           0, 0, 0, 0, 0, 0, 0, 0, 0, 0, 0, 0, 0, 0, 0, 0, 0, 0, 0, 0, 0, 0, 0, 0,\n",
       "           0, 0, 0, 0, 0, 0, 0, 0]),\n",
       "   tensor([1, 1, 1, 1, 1, 1, 1, 1, 1, 1, 1, 1, 1, 1, 1, 1, 1, 1, 1, 1, 1, 1, 1, 1,\n",
       "           1, 1, 1, 1, 1, 1, 1, 1, 1, 1, 1, 1, 1, 1, 1, 1, 1, 1, 1, 0, 0, 0, 0, 0,\n",
       "           0, 0, 0, 0, 0, 0, 0, 0, 0, 0, 0, 0, 0, 0, 0, 0, 0, 0, 0, 0, 0, 0, 0, 0,\n",
       "           0, 0, 0, 0, 0, 0, 0, 0, 0, 0, 0, 0, 0, 0, 0, 0, 0, 0, 0, 0, 0, 0, 0, 0,\n",
       "           0, 0, 0, 0, 0, 0, 0, 0, 0, 0, 0, 0, 0, 0, 0, 0, 0, 0, 0, 0, 0, 0, 0, 0,\n",
       "           0, 0, 0, 0, 0, 0, 0, 0])]},\n",
       " {'word': [tensor([50256,   818,  7795, 50256,  4670,    79, 15462, 50256,  4376,  1294,\n",
       "               3,  1160,  1510,   422,  2839,  7713,   837,  1390,  5581, 26661,\n",
       "            1665, 10671, 41204,   290, 50256,  9643, 50256,  5701, 19834, 13075,\n",
       "            1623, 46525,   764,     1,     1,     1,     1,     1,     1,     1,\n",
       "               1,     1,     1,     1,     1,     1,     1,     1,     1,     1,\n",
       "               1,     1,     1,     1,     1,     1,     1,     1,     1,     1,\n",
       "               1,     1,     1,     1,     1,     1,     1,     1,     1,     1,\n",
       "               1,     1,     1,     1,     1,     1,     1,     1,     1,     1,\n",
       "               1,     1,     1,     1,     1,     1,     1,     1,     1,     1,\n",
       "               1,     1,     1,     1,     1,     1,     1,     1,     1,     1,\n",
       "               1,     1,     1,     1,     1,     1,     1,     1,     1,     1,\n",
       "               1,     1,     1,     1,     1,     1,     1,     1,     1,     1,\n",
       "               1,     1,     1,     1,     1,     1,     1,     1]),\n",
       "   tensor([50256, 50256,    39,   709,   271, 50256,  2627,   257,  3614,  1664,\n",
       "             287,  3035,  1946,   837,   706,  9952, 23201,  2702,   257,  6885,\n",
       "            4064, 10171,   287,   262,  1597,   284, 50256,   383,   402,  2850,\n",
       "            4912, 50256,   284,  1296,   257,  6466, 13189,  1022,   262,   734,\n",
       "            2706,   764,     1,     1,     1,     1,     1,     1,     1,     1,\n",
       "               1,     1,     1,     1,     1,     1,     1,     1,     1,     1,\n",
       "               1,     1,     1,     1,     1,     1,     1,     1,     1,     1,\n",
       "               1,     1,     1,     1,     1,     1,     1,     1,     1,     1,\n",
       "               1,     1,     1,     1,     1,     1,     1,     1,     1,     1,\n",
       "               1,     1,     1,     1,     1,     1,     1,     1,     1,     1,\n",
       "               1,     1,     1,     1,     1,     1,     1,     1,     1,     1,\n",
       "               1,     1,     1,     1,     1,     1,     1,     1,     1,     1,\n",
       "               1,     1,     1,     1,     1,     1,     1,     1])],\n",
       "  'pos1': [tensor(2), tensor(0)],\n",
       "  'pos2': [tensor(23), tensor(25)],\n",
       "  'mask': [tensor([1, 1, 1, 1, 1, 1, 1, 1, 1, 1, 1, 1, 1, 1, 1, 1, 1, 1, 1, 1, 1, 1, 1, 1,\n",
       "           1, 1, 1, 1, 1, 1, 1, 1, 1, 0, 0, 0, 0, 0, 0, 0, 0, 0, 0, 0, 0, 0, 0, 0,\n",
       "           0, 0, 0, 0, 0, 0, 0, 0, 0, 0, 0, 0, 0, 0, 0, 0, 0, 0, 0, 0, 0, 0, 0, 0,\n",
       "           0, 0, 0, 0, 0, 0, 0, 0, 0, 0, 0, 0, 0, 0, 0, 0, 0, 0, 0, 0, 0, 0, 0, 0,\n",
       "           0, 0, 0, 0, 0, 0, 0, 0, 0, 0, 0, 0, 0, 0, 0, 0, 0, 0, 0, 0, 0, 0, 0, 0,\n",
       "           0, 0, 0, 0, 0, 0, 0, 0]),\n",
       "   tensor([1, 1, 1, 1, 1, 1, 1, 1, 1, 1, 1, 1, 1, 1, 1, 1, 1, 1, 1, 1, 1, 1, 1, 1,\n",
       "           1, 1, 1, 1, 1, 1, 1, 1, 1, 1, 1, 1, 1, 1, 1, 1, 1, 1, 0, 0, 0, 0, 0, 0,\n",
       "           0, 0, 0, 0, 0, 0, 0, 0, 0, 0, 0, 0, 0, 0, 0, 0, 0, 0, 0, 0, 0, 0, 0, 0,\n",
       "           0, 0, 0, 0, 0, 0, 0, 0, 0, 0, 0, 0, 0, 0, 0, 0, 0, 0, 0, 0, 0, 0, 0, 0,\n",
       "           0, 0, 0, 0, 0, 0, 0, 0, 0, 0, 0, 0, 0, 0, 0, 0, 0, 0, 0, 0, 0, 0, 0, 0,\n",
       "           0, 0, 0, 0, 0, 0, 0, 0])]},\n",
       " [0, 1])"
      ]
     },
     "execution_count": 9,
     "metadata": {},
     "output_type": "execute_result"
    }
   ],
   "source": [
    "frds[0]"
   ]
  },
  {
   "cell_type": "code",
   "execution_count": null,
   "metadata": {},
   "outputs": [],
   "source": []
  },
  {
   "cell_type": "code",
   "execution_count": 10,
   "metadata": {},
   "outputs": [],
   "source": [
    "def dataset_sentences(ds, index):\n",
    "    def sentence_from_list(sl):\n",
    "        return ' '.join(sl)\n",
    "    ds_entry = ds[index]\n",
    "    tokenizer = ds.encoder.tokenizer\n",
    "    support = ds_entry[0]\n",
    "    print('Support:')\n",
    "    masks = support['mask']\n",
    "    for iy, y in enumerate(support['word']):\n",
    "        ym = [y[i] for i in range(len(y)) if masks[iy][i] == 1]\n",
    "        sent = tokenizer.convert_ids_to_tokens(ym)\n",
    "        print(sentence_from_list(sent),'\\n')\n",
    "    query = ds_entry[1]\n",
    "    print('Query:')\n",
    "    masks = query['mask']\n",
    "    for iy, y in enumerate(query['word']):\n",
    "        ym = [y[i] for i in range(len(y)) if masks[iy][i] == 1]\n",
    "        sent = tokenizer.convert_ids_to_tokens(ym)\n",
    "        print(sentence_from_list(sent),'\\n')"
   ]
  },
  {
   "cell_type": "code",
   "execution_count": 11,
   "metadata": {},
   "outputs": [
    {
     "name": "stdout",
     "output_type": "stream",
     "text": [
      "Support:\n",
      "<|endoftext|> The Ġchurch Ġis Ġa ĠColonial Ġrevival Ġstructure Ġwith Ġgranite Ġquo ins Ġ, Ġdesigned Ġby <|endoftext|> ĠJohn ĠRussell ĠPope <|endoftext|> Ġ, Ġarchitect Ġof Ġthe <|endoftext|> ĠJefferson ĠMemorial <|endoftext|> Ġ. \n",
      "\n",
      "<|endoftext|> Along side <|endoftext|> ĠFred rika ĠBre mer <|endoftext|> Ġ, ĠW Ã¤ g ner Ġis Ġoften Ġseen Ġas Ġthe Ġmost Ġimportant Ġand Ġinfluential <|endoftext|> Ġfeminist <|endoftext|> Ġpioneer Ġin ĠSweden Ġ. \n",
      "\n",
      "Query:\n",
      "<|endoftext|> S yd ney Ġis Ġhome Ġto ĠAustralia Ġ' s Ġfirst Ġbuilding Ġby Ġrenowned ĠCanadian Ġarchitect <|endoftext|> ĠFrank ĠGeh ry <|endoftext|> Ġ, Ġthe <|endoftext|> ĠDr ĠChau ĠChak ĠWing ĠBuilding <|endoftext|> Ġ( Ġ2015 Ġ) Ġ, Ġbased Ġon Ġthe Ġdesign Ġof Ġa Ġtree Ġhouse Ġ. \n",
      "\n",
      "<|endoftext|> <|endoftext|> Jacob ĠApp el baum <|endoftext|> Ġ( Ġborn Ġ1 ĠApril Ġ1983 Ġ) Ġis Ġan ĠAmerican Ġindependent Ġjournalist Ġ, <|endoftext|> Ġcomputer Ġsecurity <|endoftext|> Ġresearcher Ġ, Ġartist Ġ, Ġand Ġhacker Ġ. \n",
      "\n"
     ]
    }
   ],
   "source": [
    "dataset_sentences(frds, 0)"
   ]
  },
  {
   "cell_type": "code",
   "execution_count": null,
   "metadata": {},
   "outputs": [],
   "source": []
  },
  {
   "cell_type": "code",
   "execution_count": null,
   "metadata": {},
   "outputs": [],
   "source": []
  },
  {
   "cell_type": "markdown",
   "metadata": {},
   "source": [
    "### Investigate the json data's format\n",
    "1. A dictionary of 64 relation classes, note: the relation classes are described in pid2name.json\n",
    "2. Each relation class has 700 example sentences\n",
    "3. Each sentence example has three parts"
   ]
  },
  {
   "cell_type": "code",
   "execution_count": 77,
   "metadata": {},
   "outputs": [],
   "source": [
    "def json_summary(root, jname):\n",
    "    path = os.path.join(root, jname + \".json\")\n",
    "    print(f'dataset path: {path}')\n",
    "    if not os.path.exists(path):\n",
    "        print(f\"[ERROR] Data file does not exist! {path}\")\n",
    "    else:\n",
    "        json_data = json.load(open(path))\n",
    "    rel_path = os.path.join(root, 'pid2name.json')\n",
    "    rel_data = json.load(open(rel_path))\n",
    "    for c in list(json_data.keys()):\n",
    "        #print(f'{c}: {rel_data[c][0]}')\n",
    "        pass\n",
    "    return json_data"
   ]
  },
  {
   "cell_type": "code",
   "execution_count": 87,
   "metadata": {},
   "outputs": [
    {
     "name": "stdout",
     "output_type": "stream",
     "text": [
      "dataset path: ./data/val_nyt.json\n"
     ]
    }
   ],
   "source": [
    "json_data = json_summary('./data', 'val_nyt')"
   ]
  },
  {
   "cell_type": "code",
   "execution_count": 88,
   "metadata": {},
   "outputs": [
    {
     "name": "stdout",
     "output_type": "stream",
     "text": [
      "total: 2500\n"
     ]
    }
   ],
   "source": [
    "total_count = 0\n",
    "for rel in json_data:\n",
    "    ex_count = len(json_data[rel])\n",
    "    total_count += ex_count\n",
    "    #print(f'{rel} {ex_count} {total_count}')\n",
    "print(f'total: {total_count}')"
   ]
  },
  {
   "cell_type": "code",
   "execution_count": 89,
   "metadata": {},
   "outputs": [],
   "source": [
    "rel_path = os.path.join('./data', 'pid2name.json')\n",
    "rel_data = json.load(open(rel_path))"
   ]
  },
  {
   "cell_type": "code",
   "execution_count": 90,
   "metadata": {},
   "outputs": [],
   "source": [
    "def fewrel_item(rel, index, json_data, rel_data):\n",
    "    data = json_data[rel][index]\n",
    "    rel_name = rel_data[rel][0]\n",
    "    sent = ' '.join(data['tokens'])\n",
    "    print(f'{rel}: {rel_name}')\n",
    "    print(f'{sent}')\n",
    "    print(data['h'])\n",
    "    print(data['t'])  "
   ]
  },
  {
   "cell_type": "code",
   "execution_count": 91,
   "metadata": {},
   "outputs": [
    {
     "ename": "KeyError",
     "evalue": "'P101'",
     "output_type": "error",
     "traceback": [
      "\u001b[0;31m---------------------------------------------------------------------------\u001b[0m",
      "\u001b[0;31mKeyError\u001b[0m                                  Traceback (most recent call last)",
      "\u001b[0;32m<ipython-input-91-ceb9cdf1d914>\u001b[0m in \u001b[0;36m<module>\u001b[0;34m\u001b[0m\n\u001b[0;32m----> 1\u001b[0;31m \u001b[0mfewrel_item\u001b[0m\u001b[0;34m(\u001b[0m\u001b[0;34m'P101'\u001b[0m\u001b[0;34m,\u001b[0m \u001b[0;36m2\u001b[0m\u001b[0;34m,\u001b[0m \u001b[0mjson_data\u001b[0m\u001b[0;34m,\u001b[0m \u001b[0mrel_data\u001b[0m\u001b[0;34m)\u001b[0m\u001b[0;34m\u001b[0m\u001b[0;34m\u001b[0m\u001b[0m\n\u001b[0m",
      "\u001b[0;32m<ipython-input-90-4c8ab6e4ba56>\u001b[0m in \u001b[0;36mfewrel_item\u001b[0;34m(rel, index, json_data, rel_data)\u001b[0m\n\u001b[1;32m      1\u001b[0m \u001b[0;32mdef\u001b[0m \u001b[0mfewrel_item\u001b[0m\u001b[0;34m(\u001b[0m\u001b[0mrel\u001b[0m\u001b[0;34m,\u001b[0m \u001b[0mindex\u001b[0m\u001b[0;34m,\u001b[0m \u001b[0mjson_data\u001b[0m\u001b[0;34m,\u001b[0m \u001b[0mrel_data\u001b[0m\u001b[0;34m)\u001b[0m\u001b[0;34m:\u001b[0m\u001b[0;34m\u001b[0m\u001b[0;34m\u001b[0m\u001b[0m\n\u001b[0;32m----> 2\u001b[0;31m     \u001b[0mdata\u001b[0m \u001b[0;34m=\u001b[0m \u001b[0mjson_data\u001b[0m\u001b[0;34m[\u001b[0m\u001b[0mrel\u001b[0m\u001b[0;34m]\u001b[0m\u001b[0;34m[\u001b[0m\u001b[0mindex\u001b[0m\u001b[0;34m]\u001b[0m\u001b[0;34m\u001b[0m\u001b[0;34m\u001b[0m\u001b[0m\n\u001b[0m\u001b[1;32m      3\u001b[0m     \u001b[0mrel_name\u001b[0m \u001b[0;34m=\u001b[0m \u001b[0mrel_data\u001b[0m\u001b[0;34m[\u001b[0m\u001b[0mrel\u001b[0m\u001b[0;34m]\u001b[0m\u001b[0;34m[\u001b[0m\u001b[0;36m0\u001b[0m\u001b[0;34m]\u001b[0m\u001b[0;34m\u001b[0m\u001b[0;34m\u001b[0m\u001b[0m\n\u001b[1;32m      4\u001b[0m     \u001b[0msent\u001b[0m \u001b[0;34m=\u001b[0m \u001b[0;34m' '\u001b[0m\u001b[0;34m.\u001b[0m\u001b[0mjoin\u001b[0m\u001b[0;34m(\u001b[0m\u001b[0mdata\u001b[0m\u001b[0;34m[\u001b[0m\u001b[0;34m'tokens'\u001b[0m\u001b[0;34m]\u001b[0m\u001b[0;34m)\u001b[0m\u001b[0;34m\u001b[0m\u001b[0;34m\u001b[0m\u001b[0m\n\u001b[1;32m      5\u001b[0m     \u001b[0mprint\u001b[0m\u001b[0;34m(\u001b[0m\u001b[0;34mf'{rel}: {rel_name}'\u001b[0m\u001b[0;34m)\u001b[0m\u001b[0;34m\u001b[0m\u001b[0;34m\u001b[0m\u001b[0m\n",
      "\u001b[0;31mKeyError\u001b[0m: 'P101'"
     ]
    }
   ],
   "source": [
    "fewrel_item('P101', 2, json_data, rel_data)"
   ]
  },
  {
   "cell_type": "code",
   "execution_count": null,
   "metadata": {},
   "outputs": [],
   "source": []
  },
  {
   "cell_type": "code",
   "execution_count": null,
   "metadata": {},
   "outputs": [],
   "source": []
  },
  {
   "cell_type": "code",
   "execution_count": 92,
   "metadata": {},
   "outputs": [
    {
     "name": "stdout",
     "output_type": "stream",
     "text": [
      "token list length: 40\n"
     ]
    }
   ],
   "source": [
    "tokenizer = frds.encoder.tokenizer\n",
    "tl = tokenizer.convert_ids_to_tokens([ 6943,  1659,  1169,    82, 28079, 14150, 47436, 21542, 12583,  1525,\n",
    "               3, 26437, 28478,    82,     2,    25,     1, 15783,  3464, 47698,\n",
    "           25478,     1,    25,   261,  1507,  6747, 10333,   265, 24694,    17,\n",
    "              11,     3,  9861,   292, 21175,     2,    11, 15039,    13, 50257])\n",
    "print(f'token list length: {len(tl)}')"
   ]
  },
  {
   "cell_type": "markdown",
   "metadata": {},
   "source": [
    "### Sentence's token list length distribution"
   ]
  },
  {
   "cell_type": "code",
   "execution_count": 93,
   "metadata": {},
   "outputs": [
    {
     "name": "stdout",
     "output_type": "stream",
     "text": [
      "max_len: 271\n"
     ]
    }
   ],
   "source": [
    "max_len = 0\n",
    "token_len_list = []\n",
    "for rel in json_data:\n",
    "    for ex in json_data[rel]:\n",
    "        tokens = ex['tokens']\n",
    "        token_len_list.append(len(tokens))\n",
    "        if len(tokens) > max_len:\n",
    "            max_len = len(tokens)\n",
    "    #print(f'{rel} {ex_count} {total_count}')\n",
    "print(f'max_len: {max_len}')"
   ]
  },
  {
   "cell_type": "code",
   "execution_count": 94,
   "metadata": {},
   "outputs": [
    {
     "data": {
      "text/plain": [
       "37.202"
      ]
     },
     "execution_count": 94,
     "metadata": {},
     "output_type": "execute_result"
    }
   ],
   "source": [
    "sum(token_len_list)/len(token_len_list)"
   ]
  },
  {
   "cell_type": "code",
   "execution_count": 95,
   "metadata": {},
   "outputs": [
    {
     "data": {
      "image/png": "[encoded data removed]",
      "text/plain": [
       "<Figure size 432x288 with 1 Axes>"
      ]
     },
     "metadata": {
      "needs_background": "light"
     },
     "output_type": "display_data"
    }
   ],
   "source": [
    "import matplotlib.pyplot as plt\n",
    "import numpy as np\n",
    "%matplotlib inline\n",
    "np.random.seed(42)\n",
    "x = np.random.normal(size=1000)\n",
    "plt.hist(token_len_list, density=True, bins=30)  # `density=False` would make counts\n",
    "plt.ylabel('Probability')\n",
    "plt.xlabel('Data');"
   ]
  },
  {
   "cell_type": "code",
   "execution_count": null,
   "metadata": {},
   "outputs": [],
   "source": []
  }
 ],
 "metadata": {
  "kernelspec": {
   "display_name": "Python 3",
   "language": "python",
   "name": "python3"
  },
  "language_info": {
   "codemirror_mode": {
    "name": "ipython",
    "version": 3
   },
   "file_extension": ".py",
   "mimetype": "text/x-python",
   "name": "python",
   "nbconvert_exporter": "python",
   "pygments_lexer": "ipython3",
   "version": "3.7.4"
  }
 },
 "nbformat": 4,
 "nbformat_minor": 2
}
